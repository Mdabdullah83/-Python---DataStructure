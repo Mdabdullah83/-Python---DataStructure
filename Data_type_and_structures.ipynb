{
  "nbformat": 4,
  "nbformat_minor": 0,
  "metadata": {
    "colab": {
      "provenance": []
    },
    "kernelspec": {
      "name": "python3",
      "display_name": "Python 3"
    },
    "language_info": {
      "name": "python"
    }
  },
  "cells": [
    {
      "cell_type": "markdown",
      "source": [
        "1.What are data structures, and why are they important?\n",
        "answer:\n",
        "Data structures are ways to organize and store data. They're important because they make it easier to manage, access, and work with data efficiently.\n",
        "\n",
        "2.Explain the difference between mutable and immutable data types with examples.\n",
        "answer:\n",
        "Mutable types can be changed after creation (like lists), while immutable types can't (like strings or tuples).\n",
        "Example:\n",
        "my_list = [1, 2]  # mutable  \n",
        "my_str = \"hello\"  # immutable\n",
        "\n",
        "3.What are the main differences between lists and tuples in Python?\n",
        "answer:\n",
        "Lists are mutable and use square brackets []. Tuples are immutable and use parentheses (). Lists can be changed; tuples can't.\n",
        "\n",
        "4.Describe how dictionaries store data.\n",
        "answer:\n",
        "Lists are mutable and use square brackets []. Tuples are immutable and use parentheses (). Lists can be changed; tuples can't.\n",
        "\n",
        "5.Why might you use a set instead of a list in Python?\n",
        "answer:\n",
        "Sets automatically remove duplicates and are faster for checking if an item exists. They’re useful when you only need unique values.\n",
        "\n",
        "6.What is a string in Python, and how is it different from a list?\n",
        "answer:\n",
        "A string is a sequence of characters and is immutable. A list can hold different types of items and can be changed.\n",
        "\n",
        "7.How do tuples ensure data integrity in Python?\n",
        "answer:\n",
        "Tuples are immutable, so once created, their values can’t change. This protects the data from accidental modification.\n",
        "\n",
        "8.What is a hash table, and how does it relate to dictionaries in Python?\n",
        "answer:\n",
        "A hash table stores data using a key and its hash. Python dictionaries are built using hash tables for fast access.\n",
        "\n",
        "\n",
        "9.Can lists contain different data types in Python?\n",
        "answer:\n",
        "Yes, Python lists can hold different types like integers, strings, and even other lists all in one.\n",
        "\n",
        "10. Explain why strings are immutable in Python.\n",
        "Answer:\n",
        "Strings are immutable to make them safer and more efficient, especially when used in loops or as keys in dictionaries.\n",
        "\n",
        "11.What advantages do dictionaries offer over lists for certain tasks?\n",
        "Answer:\n",
        "Dictionaries let you access values using keys, which is faster and more organized than searching through a list.\n",
        "\n",
        "12.Describe a scenario where using a tuple would be preferable over a list.\n",
        "Answer:\n",
        "Use a tuple when the data shouldn't change, like storing coordinates (x, y) or days of the week.\n",
        "\n",
        "13.How do sets handle duplicate values in Python?\n",
        "Answer:\n",
        "Sets automatically remove duplicates, so only unique values are kept.\n",
        "\n",
        "14.How does the “in” keyword work differently for lists and dictionaries?\n",
        "Answer:\n",
        "In a list, it checks for the value. In a dictionary, it checks for the key.\n",
        "\n",
        "15.Can you modify the elements of a tuple? Explain why or why not.\n",
        "Answer:\n",
        "No, you can’t. Tuples are immutable, which means their contents can't be changed after creation.\n",
        "\n",
        "\n",
        "16.What is a nested dictionary, and give an example of its use case?\n",
        "Answer:\n",
        "A nested dictionary is a dictionary inside another dictionary.\n",
        "Example use case: storing student data like students = {\"John\": {\"age\": 20, \"grade\": \"A\"}}.\n",
        "\n",
        "17. Describe the time complexity of accessing elements in a dictionary.\n",
        "Answer:\n",
        "Accessing elements in a dictionary is on average O(1) — very fast.\n",
        "\n",
        "18.In what situations are lists preferred over dictionaries?\n",
        "Answer:\n",
        "Lists are better when you only need to store items in order and don't need key-value pairs.\n",
        "\n",
        "19.Why are dictionaries considered unordered, and how does that affect data retrieval?\n",
        "Answer:\n",
        "They were unordered before Python 3.7. Now they keep insertion order, but you still access data by key, not position.\n",
        "\n",
        "20.Explain the difference between a list and a dictionary in terms of data retrieval.\n",
        "Answer:\n",
        "Lists use index numbers to get items; dictionaries use keys, which makes lookup faster and more meaningful.\n"
      ],
      "metadata": {
        "id": "CHBxnNCSYIO2"
      }
    },
    {
      "cell_type": "markdown",
      "source": [
        "Practical questions:"
      ],
      "metadata": {
        "id": "a8MOgDSWsVs-"
      }
    },
    {
      "cell_type": "code",
      "source": [
        "#1.Write a code to create a string with your name and print it\n",
        "name = \"Abdullah\"\n",
        "print(name)"
      ],
      "metadata": {
        "colab": {
          "base_uri": "https://localhost:8080/"
        },
        "id": "AmuPP5eNs5Yn",
        "outputId": "efd9208a-3f16-4cc1-ca0b-256a6ccb7114"
      },
      "execution_count": 1,
      "outputs": [
        {
          "output_type": "stream",
          "name": "stdout",
          "text": [
            "Abdullah\n"
          ]
        }
      ]
    },
    {
      "cell_type": "code",
      "source": [
        "#2.Write a code to find the length of the string \"Hello World\".\n",
        "text = \"Hello World\"\n",
        "print(len(text))"
      ],
      "metadata": {
        "colab": {
          "base_uri": "https://localhost:8080/"
        },
        "id": "u8lcx5K2ue1X",
        "outputId": "de95caa1-2774-4517-a59f-c6a81084471f"
      },
      "execution_count": 2,
      "outputs": [
        {
          "output_type": "stream",
          "name": "stdout",
          "text": [
            "11\n"
          ]
        }
      ]
    },
    {
      "cell_type": "code",
      "source": [
        "#3.Write a code to slice the first 3 characters from the string \"Python Programming\".\n",
        "text = \"Python Programming\"\n",
        "print(text[:3])\n"
      ],
      "metadata": {
        "colab": {
          "base_uri": "https://localhost:8080/"
        },
        "id": "j19uV2KRuex7",
        "outputId": "eebcabff-6513-4a13-f61a-97ca7fbb90fa"
      },
      "execution_count": 3,
      "outputs": [
        {
          "output_type": "stream",
          "name": "stdout",
          "text": [
            "Pyt\n"
          ]
        }
      ]
    },
    {
      "cell_type": "code",
      "source": [
        "#4.Write a code to convert the string \"hello\" to uppercase.\n",
        "text = \"hello\"\n",
        "print(text.upper())"
      ],
      "metadata": {
        "colab": {
          "base_uri": "https://localhost:8080/"
        },
        "id": "TjHvZeP4uevw",
        "outputId": "8242c106-be64-4380-f532-961948d12b67"
      },
      "execution_count": 5,
      "outputs": [
        {
          "output_type": "stream",
          "name": "stdout",
          "text": [
            "HELLO\n"
          ]
        }
      ]
    },
    {
      "cell_type": "code",
      "source": [
        "#5. Write a code to replace the word \"apple\" with \"orange\" in the string \"I like apple\".\n",
        "text = \"I like apple\"\n",
        "print(text.replace(\"apple\", \"orange\"))\n"
      ],
      "metadata": {
        "colab": {
          "base_uri": "https://localhost:8080/"
        },
        "id": "pi_EhjHouetU",
        "outputId": "54a691dc-268f-4e4e-e99c-6e243ea63f5f"
      },
      "execution_count": 4,
      "outputs": [
        {
          "output_type": "stream",
          "name": "stdout",
          "text": [
            "I like orange\n"
          ]
        }
      ]
    },
    {
      "cell_type": "code",
      "source": [
        "#6.Write a code to create a list with numbers 1 to 5 and print it.\n",
        "numbers = [1, 2, 3, 4, 5]\n",
        "print(numbers)"
      ],
      "metadata": {
        "colab": {
          "base_uri": "https://localhost:8080/"
        },
        "id": "2EAmamhTuequ",
        "outputId": "b5a37e0b-a4cc-447c-bb22-50924d1016d5"
      },
      "execution_count": 6,
      "outputs": [
        {
          "output_type": "stream",
          "name": "stdout",
          "text": [
            "[1, 2, 3, 4, 5]\n"
          ]
        }
      ]
    },
    {
      "cell_type": "code",
      "source": [
        "#7.Write a code to append the number 10 to the list [1, 2, 3, 4]\n",
        "numbers = [1, 2, 3, 4]\n",
        "numbers.append(10)\n",
        "print(numbers)"
      ],
      "metadata": {
        "colab": {
          "base_uri": "https://localhost:8080/"
        },
        "id": "ji5Nburzueoz",
        "outputId": "212684b9-1898-4e97-82a1-b85d4f86b4fb"
      },
      "execution_count": 7,
      "outputs": [
        {
          "output_type": "stream",
          "name": "stdout",
          "text": [
            "[1, 2, 3, 4, 10]\n"
          ]
        }
      ]
    },
    {
      "cell_type": "code",
      "source": [
        "#8.Write a code to remove the number 3 from the list [1, 2, 3, 4, 5].\n",
        "numbers = [1, 2, 3, 4, 5]\n",
        "numbers.remove(3)\n",
        "print(numbers)"
      ],
      "metadata": {
        "colab": {
          "base_uri": "https://localhost:8080/"
        },
        "id": "6JPKVrjKuelh",
        "outputId": "3b8444af-a97e-4ec1-cc76-2afed06fdcb7"
      },
      "execution_count": 8,
      "outputs": [
        {
          "output_type": "stream",
          "name": "stdout",
          "text": [
            "[1, 2, 4, 5]\n"
          ]
        }
      ]
    },
    {
      "cell_type": "code",
      "source": [
        "#9.P Write a code to access the second element in the list ['a', 'b', 'c', 'd'].\n",
        "letters = ['a', 'b', 'c', 'd']\n",
        "print(letters[1])"
      ],
      "metadata": {
        "colab": {
          "base_uri": "https://localhost:8080/"
        },
        "id": "Nt4vdKMSueiY",
        "outputId": "3abcc606-2e44-4a22-940a-94e30e50f878"
      },
      "execution_count": 9,
      "outputs": [
        {
          "output_type": "stream",
          "name": "stdout",
          "text": [
            "b\n"
          ]
        }
      ]
    },
    {
      "cell_type": "code",
      "source": [
        "#10.Write a code to reverse the list [10, 20, 30, 40, 50].\n",
        "numbers = [10, 20, 30, 40, 50]\n",
        "print(numbers[::-1])"
      ],
      "metadata": {
        "colab": {
          "base_uri": "https://localhost:8080/"
        },
        "id": "nsLI40bmueZy",
        "outputId": "2bdf3845-a0f5-4de2-8e78-32c654907a5d"
      },
      "execution_count": 10,
      "outputs": [
        {
          "output_type": "stream",
          "name": "stdout",
          "text": [
            "[50, 40, 30, 20, 10]\n"
          ]
        }
      ]
    },
    {
      "cell_type": "code",
      "source": [
        "#11.Write a code to create a tuple with the elements 100, 200, 300 and print it.\n",
        "numbers = (100, 200, 300)\n",
        "print(numbers)"
      ],
      "metadata": {
        "colab": {
          "base_uri": "https://localhost:8080/"
        },
        "id": "GQHQhd12ueL7",
        "outputId": "4fef82de-ac95-45d8-b712-ea256d5256a9"
      },
      "execution_count": 11,
      "outputs": [
        {
          "output_type": "stream",
          "name": "stdout",
          "text": [
            "(100, 200, 300)\n"
          ]
        }
      ]
    },
    {
      "cell_type": "code",
      "source": [
        "#12.Write a code to access the second-to-last element of the tuple ('red', 'green', 'blue', 'yellow').\n",
        "colors = ('red', 'green', 'blue', 'yellow')\n",
        "print(colors[-2])"
      ],
      "metadata": {
        "colab": {
          "base_uri": "https://localhost:8080/"
        },
        "id": "69pF6mwnwLQt",
        "outputId": "6eea6fc2-c930-429b-b357-1291b2e79cda"
      },
      "execution_count": 12,
      "outputs": [
        {
          "output_type": "stream",
          "name": "stdout",
          "text": [
            "blue\n"
          ]
        }
      ]
    },
    {
      "cell_type": "code",
      "source": [
        "#13. Write a code to find the minimum number in the tuple (10, 20, 5, 15).\n",
        "numbers = (10, 20, 5, 15)\n",
        "print(min(numbers))"
      ],
      "metadata": {
        "colab": {
          "base_uri": "https://localhost:8080/"
        },
        "id": "G9u-cq3iwK_Z",
        "outputId": "0ed36b9d-114e-4962-9f83-2dca8d556e15"
      },
      "execution_count": 13,
      "outputs": [
        {
          "output_type": "stream",
          "name": "stdout",
          "text": [
            "5\n"
          ]
        }
      ]
    },
    {
      "cell_type": "code",
      "source": [
        "#14. Write a code to find the index of the element \"cat\" in the tuple ('dog', 'cat', 'rabbit').\n",
        "animals = ('dog', 'cat', 'rabbit')\n",
        "print(animals.index(\"cat\"))"
      ],
      "metadata": {
        "colab": {
          "base_uri": "https://localhost:8080/"
        },
        "id": "LUk3Y-ZqwK8O",
        "outputId": "13703ab7-4dd6-42f6-bc48-44ca08f5eaa6"
      },
      "execution_count": 14,
      "outputs": [
        {
          "output_type": "stream",
          "name": "stdout",
          "text": [
            "1\n"
          ]
        }
      ]
    },
    {
      "cell_type": "code",
      "source": [
        "#15.Write a code to create a tuple containing three different fruits and check if \"kiwi\" is in it.\n",
        "fruits = (\"apple\", \"banana\", \"orange\")\n",
        "print(\"kiwi\" in fruits)"
      ],
      "metadata": {
        "colab": {
          "base_uri": "https://localhost:8080/"
        },
        "id": "RyNPG7IawK6H",
        "outputId": "602d8a14-d5d0-4424-ce88-f28e60baa83d"
      },
      "execution_count": 15,
      "outputs": [
        {
          "output_type": "stream",
          "name": "stdout",
          "text": [
            "False\n"
          ]
        }
      ]
    },
    {
      "cell_type": "code",
      "source": [
        "#16.Write a code to create a set with the elements 'a', 'b', 'c' and print it.\n",
        "letters = {'a', 'b', 'c'}\n",
        "print(letters)"
      ],
      "metadata": {
        "colab": {
          "base_uri": "https://localhost:8080/"
        },
        "id": "uH45jpEHwK4U",
        "outputId": "8c58450d-85cd-4b3b-85c7-5af3b8042571"
      },
      "execution_count": 16,
      "outputs": [
        {
          "output_type": "stream",
          "name": "stdout",
          "text": [
            "{'c', 'b', 'a'}\n"
          ]
        }
      ]
    },
    {
      "cell_type": "code",
      "source": [
        "#17. Write a code to clear all elements from the set {1, 2, 3, 4, 5}.\n",
        "numbers = {1, 2, 3, 4, 5}\n",
        "numbers.clear()\n",
        "print(numbers)"
      ],
      "metadata": {
        "colab": {
          "base_uri": "https://localhost:8080/"
        },
        "id": "b7quuYlZwK2V",
        "outputId": "17699ea3-3074-473f-dd44-bd5ec0b483ac"
      },
      "execution_count": 17,
      "outputs": [
        {
          "output_type": "stream",
          "name": "stdout",
          "text": [
            "set()\n"
          ]
        }
      ]
    },
    {
      "cell_type": "code",
      "source": [
        "#18. Write a code to remove the element 4 from the set {1, 2, 3, 4}.\n",
        "numbers = {1, 2, 3, 4}\n",
        "numbers.remove(4)\n",
        "print(numbers)"
      ],
      "metadata": {
        "colab": {
          "base_uri": "https://localhost:8080/"
        },
        "id": "9OKDaJJ0wKyC",
        "outputId": "54b1cac5-56d7-46b6-b0fa-8fe530659bb2"
      },
      "execution_count": 18,
      "outputs": [
        {
          "output_type": "stream",
          "name": "stdout",
          "text": [
            "{1, 2, 3}\n"
          ]
        }
      ]
    },
    {
      "cell_type": "code",
      "source": [
        "#19.Write a code to find the union of two sets {1, 2, 3} and {3, 4, 5}.\n",
        "set1 = {1, 2, 3}\n",
        "set2 = {3, 4, 5}\n",
        "print(set1.union(set2))"
      ],
      "metadata": {
        "colab": {
          "base_uri": "https://localhost:8080/"
        },
        "id": "SSYRac1rwKvW",
        "outputId": "eba10e22-8218-4f73-90a1-5eb59e9c5551"
      },
      "execution_count": 19,
      "outputs": [
        {
          "output_type": "stream",
          "name": "stdout",
          "text": [
            "{1, 2, 3, 4, 5}\n"
          ]
        }
      ]
    },
    {
      "cell_type": "code",
      "source": [
        "#20. Write a code to find the intersection of two sets {1, 2, 3} and {2, 3, 4}\n",
        "set1 = {1, 2, 3}\n",
        "set2 = {2, 3, 4}\n",
        "print(set1.intersection(set2))"
      ],
      "metadata": {
        "colab": {
          "base_uri": "https://localhost:8080/"
        },
        "id": "t7MM8iTOwKox",
        "outputId": "493e63b1-be71-4202-d93e-4ca6660997f3"
      },
      "execution_count": 20,
      "outputs": [
        {
          "output_type": "stream",
          "name": "stdout",
          "text": [
            "{2, 3}\n"
          ]
        }
      ]
    },
    {
      "cell_type": "code",
      "source": [
        "#21. Write a code to create a dictionary with the keys \"name\", \"age\", and \"city\", and print it.\n",
        "person = {\"name\": \"Abdullah\", \"age\": 25, \"city\": \"mumbai\"}\n",
        "print(person)"
      ],
      "metadata": {
        "colab": {
          "base_uri": "https://localhost:8080/"
        },
        "id": "ssMm9Lj2xL9X",
        "outputId": "e4a00529-8050-4ef6-a5b7-b021530afc3b"
      },
      "execution_count": 24,
      "outputs": [
        {
          "output_type": "stream",
          "name": "stdout",
          "text": [
            "{'name': 'Abdullah', 'age': 25, 'city': 'mumbai'}\n"
          ]
        }
      ]
    },
    {
      "cell_type": "code",
      "source": [
        "#22. Write a code to add a new key-value pair \"country\": \"USA\" to the dictionary {'name': 'John', 'age': 25}.\n",
        "person = {'name': 'John', 'age': 25}\n",
        "person[\"country\"] = \"USA\"\n",
        "print(person)"
      ],
      "metadata": {
        "colab": {
          "base_uri": "https://localhost:8080/"
        },
        "id": "31Iwj86nxLzY",
        "outputId": "618d39f1-26bf-4b42-b725-f298515ab514"
      },
      "execution_count": 23,
      "outputs": [
        {
          "output_type": "stream",
          "name": "stdout",
          "text": [
            "{'name': 'John', 'age': 25, 'country': 'USA'}\n"
          ]
        }
      ]
    },
    {
      "cell_type": "code",
      "source": [
        "#23. Write a code to access the value associated with the key \"name\" in the dictionary {'name': 'Alice', 'age': 30}.\n",
        "person = {'name': 'Alice', 'age': 30}\n",
        "print(person[\"name\"])"
      ],
      "metadata": {
        "colab": {
          "base_uri": "https://localhost:8080/"
        },
        "id": "Z9hP102kxLp1",
        "outputId": "7bcc5bca-7e11-49c2-a23d-fdc82d57d1ee"
      },
      "execution_count": 27,
      "outputs": [
        {
          "output_type": "stream",
          "name": "stdout",
          "text": [
            "Alice\n"
          ]
        }
      ]
    },
    {
      "cell_type": "code",
      "source": [
        "#24. Write a code to remove the key \"age\" from the dictionary {'name': 'Bob', 'age': 22, 'city': 'New York'}.\n",
        "person = {'name': 'Bob', 'age': 22, 'city': 'New York'}\n",
        "del person[\"age\"]\n",
        "print(person)"
      ],
      "metadata": {
        "colab": {
          "base_uri": "https://localhost:8080/"
        },
        "id": "IBFauxqixLfz",
        "outputId": "1f2976c2-ebb1-4e54-9b51-4e93c0980338"
      },
      "execution_count": 28,
      "outputs": [
        {
          "output_type": "stream",
          "name": "stdout",
          "text": [
            "{'name': 'Bob', 'city': 'New York'}\n"
          ]
        }
      ]
    },
    {
      "cell_type": "code",
      "source": [
        "#25. Write a code to check if the key \"city\" exists in the dictionary {'name': 'Alice', 'city': 'Paris'}.\n",
        "person = {'name': 'Alice', 'city': 'Paris'}\n",
        "print(\"city\" in person)"
      ],
      "metadata": {
        "colab": {
          "base_uri": "https://localhost:8080/"
        },
        "id": "gLB04AtXxLVT",
        "outputId": "5a0d4c53-4e1f-4d9f-833e-979dc79d3feb"
      },
      "execution_count": 29,
      "outputs": [
        {
          "output_type": "stream",
          "name": "stdout",
          "text": [
            "True\n"
          ]
        }
      ]
    },
    {
      "cell_type": "code",
      "source": [
        "#26. Write a code to create a list, a tuple, and a dictionary, and print them all.\n",
        "numbers = [1, 2, 3, 4, 5]\n",
        "print(numbers)"
      ],
      "metadata": {
        "colab": {
          "base_uri": "https://localhost:8080/"
        },
        "id": "Xrw3zSoExLLh",
        "outputId": "8981df54-edc0-420c-b1aa-3851770eced3"
      },
      "execution_count": 30,
      "outputs": [
        {
          "output_type": "stream",
          "name": "stdout",
          "text": [
            "[1, 2, 3, 4, 5]\n"
          ]
        }
      ]
    },
    {
      "cell_type": "code",
      "source": [
        "#27. Write a code to create a list of 5 random numbers between 1 and 100, sort it in ascending order, and print the result.\n",
        "import random\n",
        "numbers = [random.randint(1, 100) for _ in range(5)]\n",
        "numbers.sort()\n",
        "print(numbers)"
      ],
      "metadata": {
        "colab": {
          "base_uri": "https://localhost:8080/"
        },
        "id": "I90bOg1LxLB_",
        "outputId": "12c7ca1b-7f3a-4719-e854-9c3da7d39078"
      },
      "execution_count": 31,
      "outputs": [
        {
          "output_type": "stream",
          "name": "stdout",
          "text": [
            "[46, 53, 67, 88, 91]\n"
          ]
        }
      ]
    },
    {
      "cell_type": "code",
      "source": [
        "#28. Write a code to create a list with strings and print the element at the third index.\n",
        "fruits = [\"apple\", \"banana\", \"orange\", \"grape\", \"kiwi\"]\n",
        "print(fruits[2])"
      ],
      "metadata": {
        "colab": {
          "base_uri": "https://localhost:8080/"
        },
        "id": "VLEy58WUxK3z",
        "outputId": "f9ef0b94-af40-4ed7-bcab-fc703f347220"
      },
      "execution_count": 32,
      "outputs": [
        {
          "output_type": "stream",
          "name": "stdout",
          "text": [
            "orange\n"
          ]
        }
      ]
    },
    {
      "cell_type": "code",
      "source": [
        "#29. Write a code to combine two dictionaries into one and print the result.\n",
        "dict1 = {\"a\": 1, \"b\": 2}\n",
        "dict2 = {\"c\": 3, \"d\": 4}\n",
        "dict1.update(dict2)\n",
        "print(dict1)"
      ],
      "metadata": {
        "colab": {
          "base_uri": "https://localhost:8080/"
        },
        "id": "wFR997QgxKuh",
        "outputId": "df69fd62-f192-4079-cd7b-75907e9687db"
      },
      "execution_count": 33,
      "outputs": [
        {
          "output_type": "stream",
          "name": "stdout",
          "text": [
            "{'a': 1, 'b': 2, 'c': 3, 'd': 4}\n"
          ]
        }
      ]
    },
    {
      "cell_type": "code",
      "source": [
        "#30. Write a code to convert a list of strings into a set.\n",
        "fruits = [\"apple\", \"banana\", \"orange\", \"apple\", \"banana\"]\n",
        "print(set(fruits))"
      ],
      "metadata": {
        "colab": {
          "base_uri": "https://localhost:8080/"
        },
        "id": "39Vg7C-JxKjz",
        "outputId": "b09ed4fb-8207-4255-d8c5-401ff6bc1b03"
      },
      "execution_count": 34,
      "outputs": [
        {
          "output_type": "stream",
          "name": "stdout",
          "text": [
            "{'banana', 'orange', 'apple'}\n"
          ]
        }
      ]
    }
  ]
}